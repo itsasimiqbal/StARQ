{
  "nbformat": 4,
  "nbformat_minor": 0,
  "metadata": {
    "colab": {
      "provenance": [],
      "toc_visible": true,
      "authorship_tag": "ABX9TyM2VjPqWN35vopz7woCwcVU",
      "include_colab_link": true
    },
    "kernelspec": {
      "name": "python3",
      "display_name": "Python 3"
    },
    "language_info": {
      "name": "python"
    }
  },
  "cells": [
    {
      "cell_type": "markdown",
      "metadata": {
        "id": "view-in-github",
        "colab_type": "text"
      },
      "source": [
        "<a href=\"https://colab.research.google.com/github/itsasimiqbal/StARQ/blob/main/brainstem__StARQ_datagen.ipynb\" target=\"_parent\"><img src=\"https://colab.research.google.com/assets/colab-badge.svg\" alt=\"Open In Colab\"/></a>"
      ]
    },
    {
      "cell_type": "markdown",
      "source": [
        "`Colab to generate training/testing date for SeBRe 2.0`"
      ],
      "metadata": {
        "id": "lMztlbnBB2-e"
      }
    },
    {
      "cell_type": "markdown",
      "source": [
        "`import libraries`"
      ],
      "metadata": {
        "id": "MCp8BhWuB_1Q"
      }
    },
    {
      "cell_type": "code",
      "source": [
        "import numpy as np\n",
        "import matplotlib.pyplot as plt\n",
        "import os\n",
        "import pickle\n",
        "import glob\n",
        "import cv2\n",
        "from google.colab import drive\n",
        "drive.mount('/content/drive')\n",
        "parent_fold = '/content/drive/My Drive/1 Asim Iqbal/Cornell/Datasets/cord_dataset/'"
      ],
      "metadata": {
        "colab": {
          "base_uri": "https://localhost:8080/"
        },
        "id": "AYFMk21cCBkN",
        "outputId": "4d45dd05-fa47-46a2-a434-38525f0a03ec"
      },
      "execution_count": 1,
      "outputs": [
        {
          "output_type": "stream",
          "name": "stdout",
          "text": [
            "Mounted at /content/drive\n"
          ]
        }
      ]
    },
    {
      "cell_type": "markdown",
      "source": [
        "`loading dicts`"
      ],
      "metadata": {
        "id": "o_ZKpLVMCx3g"
      }
    },
    {
      "cell_type": "code",
      "source": [
        "with open('/content/drive/MyDrive/1 Asim Iqbal/Cornell/Code/train_sects.pkl', 'rb') as f:\n",
        "    train_sects = pickle.load(f)\n",
        "with open('/content/drive/MyDrive/1 Asim Iqbal/Cornell/Code/test_sects.pkl', 'rb') as f:\n",
        "    test_sects = pickle.load(f)\n",
        "with open('/content/drive/MyDrive/1 Asim Iqbal/Cornell/Code/train_masks.pkl', 'rb') as f:\n",
        "    train_masks = pickle.load(f)\n",
        "with open('/content/drive/MyDrive/1 Asim Iqbal/Cornell/Code/test_masks.pkl', 'rb') as f:\n",
        "    test_masks = pickle.load(f)"
      ],
      "metadata": {
        "id": "4bdc8ZNvCVMq"
      },
      "execution_count": 2,
      "outputs": []
    },
    {
      "cell_type": "code",
      "source": [
        "plt.subplot(1,5,1); plt.imshow(test_sects['A1_S13.png'],cmap='inferno')\n",
        "for x in range(4):\n",
        "  plt.subplot(1,5,x+2); plt.imshow(test_masks['A1_S13.png'][x])\n",
        "plt.figure()"
      ],
      "metadata": {
        "colab": {
          "base_uri": "https://localhost:8080/",
          "height": 186
        },
        "id": "iRVpzQnCCtKn",
        "outputId": "d39db797-5140-4389-e763-d67c5fdd004f"
      },
      "execution_count": 3,
      "outputs": [
        {
          "output_type": "execute_result",
          "data": {
            "text/plain": [
              "<Figure size 640x480 with 0 Axes>"
            ]
          },
          "metadata": {},
          "execution_count": 3
        },
        {
          "output_type": "display_data",
          "data": {
            "text/plain": [
              "<Figure size 640x480 with 5 Axes>"
            ],
            "image/png": "[encoded data removed]"
          },
          "metadata": {}
        },
        {
          "output_type": "display_data",
          "data": {
            "text/plain": [
              "<Figure size 640x480 with 0 Axes>"
            ]
          },
          "metadata": {}
        }
      ]
    },
    {
      "cell_type": "markdown",
      "source": [
        "# `Data gen`"
      ],
      "metadata": {
        "id": "jtZTf8JbC03d"
      }
    },
    {
      "cell_type": "code",
      "source": [
        "labels = {0:'Midbrain',\n",
        "          1:'Pons',\n",
        "          2:'thalamus',\n",
        "          3:'Medulla'}"
      ],
      "metadata": {
        "id": "L9zRUcxOJmSI"
      },
      "execution_count": 38,
      "outputs": []
    },
    {
      "cell_type": "markdown",
      "source": [
        "`train`"
      ],
      "metadata": {
        "id": "v7sHhIqzLWE7"
      }
    },
    {
      "cell_type": "code",
      "source": [
        "count = 0\n",
        "for key in train_sects:\n",
        "  # brain sect\n",
        "  temp_sect = np.zeros((256,256,3))\n",
        "  for x in range(3):\n",
        "    temp_sect[:,:,x] = (train_sects[key]/np.max(train_sects[key]))*255\n",
        "  cv2.imwrite(parent_fold+'train/Gray/'+str(count)+'.png', temp_sect)\n",
        "  # mask sects\n",
        "  temp_masks = train_masks[key]\n",
        "  cv2.imwrite(parent_fold+'train/masks2train/0_'+str(count)+'.png', temp_masks[0])\n",
        "  cv2.imwrite(parent_fold+'train/masks2train/1_'+str(count)+'.png', temp_masks[1])\n",
        "  cv2.imwrite(parent_fold+'train/masks2train/2_'+str(count)+'.png', temp_masks[2])\n",
        "  cv2.imwrite(parent_fold+'train/masks2train/3_'+str(count)+'.png', temp_masks[3])\n",
        "  count+=1\n",
        "  print(count,'/',len(train_sects),' --- processed')"
      ],
      "metadata": {
        "colab": {
          "base_uri": "https://localhost:8080/"
        },
        "id": "ZTGBJb-3DYms",
        "outputId": "0a26e493-05f7-47e8-88b3-1bac22fe8da9"
      },
      "execution_count": 4,
      "outputs": [
        {
          "output_type": "stream",
          "name": "stdout",
          "text": [
            "1 / 44  --- processed\n",
            "2 / 44  --- processed\n",
            "3 / 44  --- processed\n",
            "4 / 44  --- processed\n",
            "5 / 44  --- processed\n",
            "6 / 44  --- processed\n",
            "7 / 44  --- processed\n",
            "8 / 44  --- processed\n",
            "9 / 44  --- processed\n",
            "10 / 44  --- processed\n",
            "11 / 44  --- processed\n",
            "12 / 44  --- processed\n",
            "13 / 44  --- processed\n",
            "14 / 44  --- processed\n",
            "15 / 44  --- processed\n",
            "16 / 44  --- processed\n",
            "17 / 44  --- processed\n",
            "18 / 44  --- processed\n",
            "19 / 44  --- processed\n",
            "20 / 44  --- processed\n",
            "21 / 44  --- processed\n",
            "22 / 44  --- processed\n",
            "23 / 44  --- processed\n",
            "24 / 44  --- processed\n",
            "25 / 44  --- processed\n",
            "26 / 44  --- processed\n",
            "27 / 44  --- processed\n",
            "28 / 44  --- processed\n",
            "29 / 44  --- processed\n",
            "30 / 44  --- processed\n",
            "31 / 44  --- processed\n",
            "32 / 44  --- processed\n",
            "33 / 44  --- processed\n",
            "34 / 44  --- processed\n",
            "35 / 44  --- processed\n",
            "36 / 44  --- processed\n",
            "37 / 44  --- processed\n",
            "38 / 44  --- processed\n",
            "39 / 44  --- processed\n",
            "40 / 44  --- processed\n",
            "41 / 44  --- processed\n",
            "42 / 44  --- processed\n",
            "43 / 44  --- processed\n",
            "44 / 44  --- processed\n"
          ]
        }
      ]
    },
    {
      "cell_type": "markdown",
      "source": [
        "`test`"
      ],
      "metadata": {
        "id": "1EGtiCyRLXPO"
      }
    },
    {
      "cell_type": "code",
      "source": [
        "count = 0\n",
        "for key in test_sects:\n",
        "  # brain sect\n",
        "  temp_sect = np.zeros((256,256,3))\n",
        "  for x in range(3):\n",
        "    temp_sect[:,:,x] = (test_sects[key]/np.max(test_sects[key]))*255\n",
        "  cv2.imwrite(parent_fold+'test/Gray/'+str(count)+'.png', temp_sect)\n",
        "  # mask sects\n",
        "  temp_masks = test_masks[key]\n",
        "  cv2.imwrite(parent_fold+'test/masks2test/0_'+str(count)+'.png', np.uint8(temp_masks[0]>0)*255)\n",
        "  cv2.imwrite(parent_fold+'test/masks2test/1_'+str(count)+'.png', np.uint8(temp_masks[1]>0)*255)\n",
        "  cv2.imwrite(parent_fold+'test/masks2test/2_'+str(count)+'.png', np.uint8(temp_masks[2]>0)*255)\n",
        "  cv2.imwrite(parent_fold+'test/masks2test/3_'+str(count)+'.png', np.uint8(temp_masks[3]>0)*255)\n",
        "  count+=1\n",
        "  print(count,'/',len(test_sects),' --- processed')"
      ],
      "metadata": {
        "colab": {
          "base_uri": "https://localhost:8080/"
        },
        "id": "yzNfFgxrGqyN",
        "outputId": "84c7b077-fbda-4afd-9b45-c23f4a20ef87"
      },
      "execution_count": 5,
      "outputs": [
        {
          "output_type": "stream",
          "name": "stdout",
          "text": [
            "1 / 10  --- processed\n",
            "2 / 10  --- processed\n",
            "3 / 10  --- processed\n",
            "4 / 10  --- processed\n",
            "5 / 10  --- processed\n",
            "6 / 10  --- processed\n",
            "7 / 10  --- processed\n",
            "8 / 10  --- processed\n",
            "9 / 10  --- processed\n",
            "10 / 10  --- processed\n"
          ]
        }
      ]
    },
    {
      "cell_type": "code",
      "source": [],
      "metadata": {
        "id": "RprLD5qeKlYv"
      },
      "execution_count": null,
      "outputs": []
    }
  ]
}